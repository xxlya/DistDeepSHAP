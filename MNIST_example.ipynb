{
 "cells": [
  {
   "cell_type": "code",
   "execution_count": 1,
   "id": "incorporate-branch",
   "metadata": {},
   "outputs": [],
   "source": [
    "import matplotlib.pyplot as plt\n",
    "import numpy as np\n",
    "import random\n",
    "\n",
    "get_ipython().run_line_magic('matplotlib', 'inline')\n",
    "\n",
    "import torch\n",
    "import torch.nn as nn\n",
    "import torch.nn.functional as F\n",
    "import torch.optim as optim\n",
    "\n",
    "import torchvision\n",
    "import torchvision.transforms as transforms\n",
    "import torchvision.transforms.functional as TF\n",
    "from torchvision import models\n",
    "\n",
    "\n"
   ]
  },
  {
   "cell_type": "code",
   "execution_count": 2,
   "id": "according-december",
   "metadata": {},
   "outputs": [],
   "source": [
    "from captum.attr import IntegratedGradients\n",
    "from captum.attr import Saliency\n",
    "from captum.attr import InputXGradient\n",
    "from captum.attr._core.guided_backprop_deconvnet import GuidedBackprop\n",
    "from captum.attr._core.guided_grad_cam import GuidedGradCam\n",
    "from captum.attr import DeepLift\n",
    "from captum.attr import NoiseTunnel\n",
    "from captum.attr import DeepLiftShap\n",
    "from captum.attr import visualization as viz"
   ]
  },
  {
   "cell_type": "code",
   "execution_count": 3,
   "id": "introductory-marina",
   "metadata": {},
   "outputs": [
    {
     "name": "stderr",
     "output_type": "stream",
     "text": [
      "/data/xiaoxiaol/anaconda3/envs/distdeepshap/lib/python3.6/site-packages/torchvision/datasets/mnist.py:48: UserWarning: train_labels has been renamed targets\n",
      "  warnings.warn(\"train_labels has been renamed targets\")\n",
      "/data/xiaoxiaol/anaconda3/envs/distdeepshap/lib/python3.6/site-packages/torchvision/datasets/mnist.py:53: UserWarning: test_labels has been renamed targets\n",
      "  warnings.warn(\"test_labels has been renamed targets\")\n"
     ]
    }
   ],
   "source": [
    "#load data\n",
    "device = torch.device(\"cuda:0\" if torch.cuda.is_available() else \"cpu\")\n",
    "\n",
    "# reference image\n",
    "REFERENCE = 0 # select the images with labels = REFERENCE as references\n",
    "\n",
    "\n",
    "transform = transforms.Compose(\n",
    "     [transforms.ToTensor(),\n",
    "#      transforms.Normalize((0.5,), (0.5,))\n",
    "    ])\n",
    "\n",
    "trainset = torchvision.datasets.MNIST(root='./data', train=True,\n",
    "                                        download=True, transform=transform)\n",
    "trainloader = torch.utils.data.DataLoader(trainset, batch_size=3000,\n",
    "                                          shuffle=False, num_workers=2)\n",
    "\n",
    "train_labels = trainset.train_labels.numpy()\n",
    "\n",
    "testset = torchvision.datasets.MNIST(root='./data', train=False,\n",
    "                                       download=True, transform=transform)\n",
    "testloader = torch.utils.data.DataLoader(testset, batch_size=3000,\n",
    "                                         shuffle=False, num_workers=2)\n",
    "\n",
    "classes = ['0', '1', '2', '3',\n",
    "           '4', '5', '6', '7', '8', '9']\n",
    "\n",
    "test_labels = testset.test_labels.numpy()"
   ]
  },
  {
   "cell_type": "code",
   "execution_count": 4,
   "id": "cutting-importance",
   "metadata": {},
   "outputs": [
    {
     "data": {
      "text/plain": [
       "Net(\n",
       "  (fc1): Linear(in_features=784, out_features=512, bias=True)\n",
       "  (fc2): Linear(in_features=512, out_features=512, bias=True)\n",
       "  (fc3): Linear(in_features=512, out_features=10, bias=True)\n",
       "  (dropout): Dropout(p=0.2, inplace=False)\n",
       ")"
      ]
     },
     "execution_count": 4,
     "metadata": {},
     "output_type": "execute_result"
    }
   ],
   "source": [
    "## Define the NN architecture\n",
    "class Net(nn.Module):\n",
    "    def __init__(self):\n",
    "        super(Net, self).__init__()\n",
    "        self.fc1 = nn.Linear(28 * 28, 512)\n",
    "        # linear layer (n_hidden -> hidden_2)\n",
    "        self.fc2 = nn.Linear(512, 512)\n",
    "        # linear layer (n_hidden -> 10)\n",
    "        self.fc3 = nn.Linear(512, 10)\n",
    "        # dropout layer (p=0.2)\n",
    "        # dropout prevents overfitting of data\n",
    "        self.dropout = nn.Dropout(0.2)\n",
    "\n",
    "    def forward(self, x):\n",
    "        # flatten image input\n",
    "        x = x.view(-1, 28 * 28)\n",
    "        # add hidden layer, with relu activation function\n",
    "        x = self.dropout(F.relu(self.fc1(x)))\n",
    "        x = self.dropout(F.relu(self.fc2(x)))\n",
    "        x = self.fc3(x)\n",
    "        return x\n",
    "\n",
    "\n",
    "net = Net()\n",
    "net.to(device)"
   ]
  },
  {
   "cell_type": "code",
   "execution_count": 5,
   "id": "macro-transmission",
   "metadata": {},
   "outputs": [
    {
     "name": "stdout",
     "output_type": "stream",
     "text": [
      "Using existing trained model\n"
     ]
    }
   ],
   "source": [
    "# In this cell, we train a model or load a pretrained model\n",
    "\n",
    "USE_PRETRAINED_MODEL = True\n",
    "\n",
    "if USE_PRETRAINED_MODEL:\n",
    "    print(\"Using existing trained model\")\n",
    "    net.load_state_dict(torch.load('models/mnist_mlp.pt'))\n",
    "else:\n",
    "    criterion = nn.CrossEntropyLoss()\n",
    "    optimizer = optim.SGD(net.parameters(), lr=0.01, momentum=0.9)\n",
    "    for epoch in range(50):  # loop over the dataset multiple times\n",
    "\n",
    "        running_loss = 0.0\n",
    "        for i, data in enumerate(trainloader, 0):\n",
    "            # get the inputs\n",
    "            inputs, labels = data\n",
    "            inputs = inputs.to(device)\n",
    "            labels = labels.to(device)\n",
    "            # zero the parameter gradients\n",
    "            optimizer.zero_grad()\n",
    "\n",
    "            # forward + backward + optimize\n",
    "            outputs = net(inputs)\n",
    "            loss = criterion(outputs, labels)\n",
    "            loss.backward()\n",
    "            optimizer.step()\n",
    "\n",
    "            # print statistics\n",
    "            running_loss += loss.item()*inputs.size(0)\n",
    "        train_loss = running_loss/len(trainloader.dataset)\n",
    "        print('Epoch: {} \\tTraining Loss: {:.6f}'.format(\n",
    "            epoch + 1,\n",
    "            train_loss\n",
    "        ))\n",
    "\n",
    "    print('Finished Training')\n",
    "    torch.save(net.state_dict(), 'models/mnist_mlp.pt')\n"
   ]
  },
  {
   "cell_type": "code",
   "execution_count": 6,
   "id": "equivalent-devon",
   "metadata": {},
   "outputs": [],
   "source": [
    "# In the cell below we load some images from the test dataset and perform predictions.\n",
    "\n",
    "def imshow(img, transpose = True):\n",
    "    #img = img / 2 + 0.5     # unnormalize\n",
    "    npimg = img.numpy()\n",
    "    #npimg = npimg.reshape(-1,28,28)\n",
    "    plt.imshow(np.transpose(npimg, (1, 2, 0)))\n",
    "    plt.show()\n",
    "\n",
    "dataiter = iter(testloader)\n",
    "images, labels = dataiter.next()"
   ]
  },
  {
   "cell_type": "code",
   "execution_count": 7,
   "id": "veterinary-martial",
   "metadata": {},
   "outputs": [],
   "source": [
    "net.eval()\n",
    "\n",
    "images = images.to(device)\n",
    "outputs = net(images)\n",
    "\n",
    "_, predicted = torch.max(outputs, 1)"
   ]
  },
  {
   "cell_type": "code",
   "execution_count": 8,
   "id": "friendly-lightning",
   "metadata": {},
   "outputs": [],
   "source": [
    "# Let's choose a test image at index `ind` and apply some of our attribution algorithms on it.\n",
    "\n",
    "# load a digit 8\n",
    "ind = 61\n",
    "\n",
    "input = images[ind].unsqueeze(0)\n",
    "input.requires_grad = True\n"
   ]
  },
  {
   "cell_type": "code",
   "execution_count": 9,
   "id": "golden-gothic",
   "metadata": {},
   "outputs": [],
   "source": [
    "# A generic function that will be used for calling `attribute` on attribution algorithm defined in input.\n",
    "\n",
    "def attribute_image_features(algorithm, input, **kwargs):\n",
    "    net.zero_grad()\n",
    "    tensor_attributions = algorithm.attribute(input,\n",
    "                                              target=predicted[ind],\n",
    "                                              **kwargs\n",
    "                                             )\n",
    "    \n",
    "    return tensor_attributions     "
   ]
  },
  {
   "cell_type": "code",
   "execution_count": 10,
   "id": "nasty-importance",
   "metadata": {},
   "outputs": [
    {
     "name": "stderr",
     "output_type": "stream",
     "text": [
      "/data/xiaoxiaol/anaconda3/envs/distdeepshap/lib/python3.6/site-packages/captum/attr/_core/guided_backprop_deconvnet.py:61: UserWarning: Setting backward hooks on ReLU activations.The hooks will be removed after the attribution is finished\n",
      "  \"Setting backward hooks on ReLU activations.\"\n",
      "/data/xiaoxiaol/anaconda3/envs/distdeepshap/lib/python3.6/site-packages/captum/_utils/gradient.py:58: UserWarning: The .grad attribute of a Tensor that is not a leaf Tensor is being accessed. Its .grad attribute won't be populated during autograd.backward(). If you indeed want the gradient for a non-leaf Tensor, use .retain_grad() on the non-leaf Tensor. If you access the non-leaf Tensor by mistake, make sure you access the leaf Tensor instead. See github.com/pytorch/pytorch/pull/30531 for more informations.\n",
      "  if input.grad is not None:\n",
      "/data/xiaoxiaol/anaconda3/envs/distdeepshap/lib/python3.6/site-packages/captum/attr/_core/deep_lift.py:325: UserWarning: Setting forward, backward hooks and attributes on non-linear\n",
      "               activations. The hooks and attributes will be removed\n",
      "            after the attribution is finished\n",
      "  after the attribution is finished\"\"\"\n",
      "/data/xiaoxiaol/anaconda3/envs/distdeepshap/lib/python3.6/site-packages/captum/_utils/gradient.py:87: UserWarning: The .grad attribute of a Tensor that is not a leaf Tensor is being accessed. Its .grad attribute won't be populated during autograd.backward(). If you indeed want the gradient for a non-leaf Tensor, use .retain_grad() on the non-leaf Tensor. If you access the non-leaf Tensor by mistake, make sure you access the leaf Tensor instead. See github.com/pytorch/pytorch/pull/30531 for more informations.\n",
      "  if input.grad is not None:\n"
     ]
    }
   ],
   "source": [
    "# Define a few baseline methods\n",
    "# Computes gradients with respect to class `ind` and transposes them for visualization purposes.\n",
    "\n",
    "saliency = Saliency(net)\n",
    "grads = saliency.attribute(input, target=labels[ind].item(), abs=False)\n",
    "grads = np.transpose(grads.squeeze(axis=0).cpu().detach().numpy(), (1, 2, 0))\n",
    "\n",
    "\n",
    "\n",
    "\n",
    "# Guided Propogate\n",
    "gbp = GuidedBackprop(net)\n",
    "attr_gbp = attribute_image_features(gbp, input)\n",
    "attr_gbp = np.transpose(attr_gbp.squeeze(axis=0).cpu().detach().numpy(), (1, 2, 0))\n",
    "\n",
    "\n",
    "\n",
    "input = input.cpu()\n",
    "net = net.to('cpu')\n",
    "\n",
    "\n",
    "\n",
    "# DeepLift\n",
    "dl = DeepLift(net)\n",
    "attr_dl = attribute_image_features(dl, input, baselines=input * 0)\n",
    "attr_dl = np.transpose(attr_dl.squeeze(0).cpu().detach().numpy(), (1, 2, 0))\n",
    "\n",
    "\n",
    "\n",
    "# DeepLiftShap\n",
    "ds = DeepLiftShap(net)\n",
    "attr_ds = attribute_image_features(ds, input, baselines=trainset.data[np.where(train_labels==REFERENCE)[0]].view(-1,1,28,28).float()/255)\n",
    "attr_ds = np.transpose(attr_ds.squeeze(0).cpu().detach().numpy(), (1, 2, 0))\n"
   ]
  },
  {
   "cell_type": "code",
   "execution_count": 11,
   "id": "hispanic-audio",
   "metadata": {},
   "outputs": [
    {
     "name": "stdout",
     "output_type": "stream",
     "text": [
      "Original Image\n",
      "Index: 61 Predicted: 8  Probability: 0.9590604305267334\n"
     ]
    },
    {
     "data": {
      "image/png": "[encoded data removed]",
      "text/plain": [
       "<Figure size 432x432 with 1 Axes>"
      ]
     },
     "metadata": {
      "needs_background": "light"
     },
     "output_type": "display_data"
    },
    {
     "data": {
      "image/png": "[encoded data removed]",
      "text/plain": [
       "<Figure size 432x432 with 2 Axes>"
      ]
     },
     "metadata": {
      "needs_background": "light"
     },
     "output_type": "display_data"
    },
    {
     "data": {
      "image/png": "[encoded data removed]",
      "text/plain": [
       "<Figure size 432x432 with 2 Axes>"
      ]
     },
     "metadata": {
      "needs_background": "light"
     },
     "output_type": "display_data"
    },
    {
     "data": {
      "image/png": "[encoded data removed]",
      "text/plain": [
       "<Figure size 432x432 with 2 Axes>"
      ]
     },
     "metadata": {
      "needs_background": "light"
     },
     "output_type": "display_data"
    }
   ],
   "source": [
    "# Display original image and baseline methods\n",
    "print('Original Image')\n",
    "print('Index:', ind,'Predicted:', predicted[ind].item(),\n",
    "      ' Probability:', torch.max(F.softmax(outputs, 1)[ind]).item())\n",
    "\n",
    "#original_image = np.transpose((images[ind].cpu().detach().numpy() / 2) + 0.5, (1, 2, 0))\n",
    "original_image = np.transpose(images[ind].cpu().detach().numpy() , (1, 2, 0))\n",
    "\n",
    "original_image = np.repeat(original_image,3,axis=-1)\n",
    "grads = np.repeat(grads,3,axis=-1)\n",
    "attr_gbp = np.repeat(attr_gbp,3,axis=-1)\n",
    "attr_dl = np.repeat(attr_dl,3,axis=-1)\n",
    "attr_ds = np.repeat(attr_ds,3,axis=-1)\n",
    "\n",
    "\n",
    "fig,axis = viz.visualize_image_attr(None, original_image,\n",
    "                          method=\"original_image\", title=\"Original Image\")\n",
    "fig.savefig('figures/8_orig.png')\n",
    "plt.close()\n",
    "\n",
    "fig,axis = viz.visualize_image_attr(attr_gbp, original_image, method=\"blended_heat_map\",sign=\"all\",\n",
    "                              show_colorbar=True, title=\"Overlayed GuidedBackprop\",alpha_overlay=0.9)\n",
    "fig.savefig('figures/8_GB.png')\n",
    "plt.close()\n",
    "\n",
    "fig,axis = viz.visualize_image_attr(attr_dl/attr_dl.max(), original_image, method=\"blended_heat_map\",sign=\"all\",show_colorbar=True,\n",
    "                              title=\"Overlayed DeepLift\",alpha_overlay=0.9)\n",
    "fig.savefig('figures/8_DL.png')\n",
    "plt.close()\n",
    "    \n",
    "fig,axis = viz.visualize_image_attr(attr_ds, original_image, method=\"blended_heat_map\",sign=\"all\",show_colorbar=True,\n",
    "                          title=\"Overlayed DeepSHAP\",alpha_overlay=0.9)\n",
    "fig.savefig('figures/8_DS_{}.png'.format(REFERENCE))\n",
    "plt.close()\n"
   ]
  },
  {
   "cell_type": "code",
   "execution_count": 12,
   "id": "accepting-swing",
   "metadata": {},
   "outputs": [
    {
     "name": "stderr",
     "output_type": "stream",
     "text": [
      "/data/xiaoxiaol/anaconda3/envs/distdeepshap/lib/python3.6/site-packages/captum/_utils/gradient.py:58: UserWarning: The .grad attribute of a Tensor that is not a leaf Tensor is being accessed. Its .grad attribute won't be populated during autograd.backward(). If you indeed want the gradient for a non-leaf Tensor, use .retain_grad() on the non-leaf Tensor. If you access the non-leaf Tensor by mistake, make sure you access the leaf Tensor instead. See github.com/pytorch/pytorch/pull/30531 for more informations.\n",
      "  if input.grad is not None:\n",
      "/data/xiaoxiaol/anaconda3/envs/distdeepshap/lib/python3.6/site-packages/captum/attr/_core/deep_lift.py:325: UserWarning: Setting forward, backward hooks and attributes on non-linear\n",
      "               activations. The hooks and attributes will be removed\n",
      "            after the attribution is finished\n",
      "  after the attribution is finished\"\"\"\n",
      "/data/xiaoxiaol/anaconda3/envs/distdeepshap/lib/python3.6/site-packages/captum/_utils/gradient.py:87: UserWarning: The .grad attribute of a Tensor that is not a leaf Tensor is being accessed. Its .grad attribute won't be populated during autograd.backward(). If you indeed want the gradient for a non-leaf Tensor, use .retain_grad() on the non-leaf Tensor. If you access the non-leaf Tensor by mistake, make sure you access the leaf Tensor instead. See github.com/pytorch/pytorch/pull/30531 for more informations.\n",
      "  if input.grad is not None:\n"
     ]
    },
    {
     "data": {
      "image/png": "[encoded data removed]",
      "text/plain": [
       "<Figure size 432x432 with 2 Axes>"
      ]
     },
     "metadata": {
      "needs_background": "light"
     },
     "output_type": "display_data"
    },
    {
     "data": {
      "image/png": "[encoded data removed]",
      "text/plain": [
       "<Figure size 432x432 with 2 Axes>"
      ]
     },
     "metadata": {
      "needs_background": "light"
     },
     "output_type": "display_data"
    },
    {
     "data": {
      "image/png": "[encoded data removed]",
      "text/plain": [
       "<Figure size 432x432 with 1 Axes>"
      ]
     },
     "metadata": {
      "needs_background": "light"
     },
     "output_type": "display_data"
    }
   ],
   "source": [
    "################  implementing our method #################\n",
    "import scipy.stats\n",
    "\n",
    "# Define function to calculate confidence interval\n",
    "def median_confidence_interval(data, confidence=0.95):\n",
    "    a = 1.0 * np.array(data)\n",
    "    n = len(a)\n",
    "    m, se = np.median(a), scipy.stats.sem(a)\n",
    "    h = se * scipy.stats.t.ppf((1 + confidence) / 2., n-1)\n",
    "    return m, m-h, m+h, h\n",
    "\n",
    "\n",
    "\n",
    "rept = 200 # Repeated sampling times. *Key Parameter*\n",
    "ourds = DeepLift(net) # DistDeepSHAP is initilized with DeepLift\n",
    "\n",
    "baselist = list(np.where(train_labels ==REFERENCE)[0]) #find the reference images ids pool\n",
    "\n",
    "# Repeatedly sample single reference image and collect a list of importance scores\n",
    "attr_ds_all = []\n",
    "for r in range(rept):\n",
    "    baseid = random.sample(baselist, 1)\n",
    "    our_attr_ds = attribute_image_features(ourds, input,\n",
    "                                           baselines=trainset.data[baseid[0]].view(-1, 1, 28, 28).float() / 255)\n",
    "    our_attr_ds = np.transpose(our_attr_ds.squeeze(0).cpu().detach().numpy(), (1, 2, 0))\n",
    "    attr_ds_all.append(our_attr_ds)\n",
    "\n",
    "attr_ds_all = np.stack(attr_ds_all)\n",
    "attr_ds_all = attr_ds_all.reshape(rept,-1)\n",
    "\n",
    "# Calculate importance score and uncertainty \n",
    "uncertain = []\n",
    "attr_dds = []\n",
    "for i in range(attr_ds_all.shape[1]):\n",
    "    m, low, high, h = median_confidence_interval(attr_ds_all[:,i], confidence=0.9)\n",
    "    uncertain.append(2*h)\n",
    "    attr_dds.append(m)\n",
    "\n",
    "# For saliency and uncertainty maps visualization \n",
    "uncertain = np.array(uncertain)\n",
    "uncertain = uncertain.reshape(28,28,1)\n",
    "uncertain = np.repeat(uncertain,3,axis=-1)\n",
    "\n",
    "attr_dds = np.array(attr_dds)\n",
    "attr_dds = attr_dds.reshape(28,28,1)\n",
    "attr_dds = np.repeat(attr_dds,3,axis=-1)\n",
    "\n",
    "fig,axis = viz.visualize_image_attr(attr_dds, original_image, method=\"blended_heat_map\",sign=\"all\",show_colorbar=True,\n",
    "                          title=\"Overlayed DistDeepSHAP\",alpha_overlay=0.9)\n",
    "fig.savefig('figures/8_DDS_{}.png'.format(REFERENCE))\n",
    "plt.close()\n",
    "\n",
    "fig,axis = viz.visualize_image_attr(uncertain, original_image, method=\"blended_heat_map\",sign=\"absolute_value\",show_colorbar=True,\n",
    "                          title=\"Overlayed Uncertainty\",alpha_overlay=0.9)\n",
    "fig.savefig('figures/8_uncertainty_{}.png'.format(REFERENCE))\n",
    "plt.close()\n",
    "\n",
    "# Averaged background image\n",
    "background = trainset.data[np.where(train_labels==REFERENCE)[0]].view(-1,1,28,28).float()\n",
    "background = background.numpy()\n",
    "background = np.mean(background,axis=0)\n",
    "background = np.transpose(background,(1, 2, 0))\n",
    "background = np.repeat(background,3,axis=-1)/255\n",
    "fig,axis = viz.visualize_image_attr(None, background,\n",
    "                      method=\"original_image\", title=\"Avarage Reference Image\")\n",
    "fig.savefig('figures/{}_background.png'.format(REFERENCE))\n",
    "plt.close()\n"
   ]
  },
  {
   "cell_type": "code",
   "execution_count": 13,
   "id": "rotary-medicaid",
   "metadata": {},
   "outputs": [],
   "source": [
    "# !pip freeze > requirements.txt"
   ]
  },
  {
   "cell_type": "code",
   "execution_count": null,
   "id": "owned-globe",
   "metadata": {},
   "outputs": [],
   "source": []
  }
 ],
 "metadata": {
  "kernelspec": {
   "display_name": "Python 3",
   "language": "python",
   "name": "python3"
  },
  "language_info": {
   "codemirror_mode": {
    "name": "ipython",
    "version": 3
   },
   "file_extension": ".py",
   "mimetype": "text/x-python",
   "name": "python",
   "nbconvert_exporter": "python",
   "pygments_lexer": "ipython3",
   "version": "3.6.12"
  }
 },
 "nbformat": 4,
 "nbformat_minor": 5
}
